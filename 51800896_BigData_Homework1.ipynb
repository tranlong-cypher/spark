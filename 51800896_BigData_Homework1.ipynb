{
 "cells": [
  {
   "cell_type": "markdown",
   "metadata": {
    "colab_type": "text",
    "id": "view-in-github"
   },
   "source": [
    "<a href=\"https://colab.research.google.com/github/duy9873226/spark/blob/main/51800861_BigData_Homework1.ipynb\" target=\"_parent\"><img src=\"https://colab.research.google.com/assets/colab-badge.svg\" alt=\"Open In Colab\"/></a>"
   ]
  },
  {
   "cell_type": "code",
   "execution_count": 10,
   "metadata": {
    "colab": {
     "base_uri": "https://localhost:8080/"
    },
    "id": "wzvdvr_tYWlk",
    "outputId": "b22fd8d6-c18c-4365-d7a2-521cbb205553"
   },
   "outputs": [
    {
     "name": "stdout",
     "output_type": "stream",
     "text": [
      "('the', 12317)\n",
      "('to', 8150)\n",
      "('of', 7042)\n",
      "('and', 6905)\n",
      "('a', 6422)\n",
      "('that', 4838)\n",
      "('in', 4580)\n",
      "('I', 4373)\n",
      "('is', 3144)\n",
      "('we', 3112)\n"
     ]
    }
   ],
   "source": [
    "import pyspark\n",
    "filename = 'train.txt'\n",
    "sc = pyspark.SparkContext.getOrCreate()\n",
    "words = sc.textFile(filename).flatMap(lambda line: line.split(\" \"))\n",
    "wordCounts = words.map(lambda word: (word, 1)).reduceByKey(lambda a,b:a +b)\n",
    "wordCounts = wordCounts.sortBy(lambda x:x[1]).collect()\n",
    "wordCounts.pop()\n",
    "wordCounts.reverse()\n",
    "k=10\n",
    "for i in range(0,k):\n",
    "  print(wordCounts[i])"
   ]
  },
  {
   "cell_type": "code",
   "execution_count": null,
   "metadata": {
    "colab": {
     "base_uri": "https://localhost:8080/"
    },
    "id": "jQtB52geYghR",
    "outputId": "6ceb9a89-7994-4254-eecb-993c33662b0b"
   },
   "outputs": [],
   "source": []
  },
  {
   "cell_type": "code",
   "execution_count": null,
   "metadata": {},
   "outputs": [],
   "source": []
  }
 ],
 "metadata": {
  "colab": {
   "authorship_tag": "ABX9TyNt4OhZsuEV5fa9mZ7CDS1S",
   "collapsed_sections": [],
   "include_colab_link": true,
   "name": "51800861_BigData_Homework1.ipynb",
   "provenance": []
  },
  "kernelspec": {
   "display_name": "Python 3",
   "language": "python",
   "name": "python3"
  },
  "language_info": {
   "codemirror_mode": {
    "name": "ipython",
    "version": 3
   },
   "file_extension": ".py",
   "mimetype": "text/x-python",
   "name": "python",
   "nbconvert_exporter": "python",
   "pygments_lexer": "ipython3",
   "version": "3.9.0"
  }
 },
 "nbformat": 4,
 "nbformat_minor": 1
}
